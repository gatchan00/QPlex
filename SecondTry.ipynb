{
 "cells": [
  {
   "cell_type": "code",
   "execution_count": 17,
   "metadata": {},
   "outputs": [],
   "source": [
    "%config IPCompleter.greedy=True\n",
    "%matplotlib inline"
   ]
  },
  {
   "cell_type": "code",
   "execution_count": 18,
   "metadata": {},
   "outputs": [],
   "source": [
    "# useful additional packages \n",
    "import matplotlib.pyplot as plt\n",
    "import matplotlib.axes as axes\n",
    "import numpy as np\n",
    "import networkx as nx\n",
    "\n",
    "from qiskit import BasicAer\n",
    "from qiskit.tools.visualization import plot_histogram\n",
    "from qiskit.aqua import Operator, run_algorithm\n",
    "from qiskit.aqua.input import EnergyInput\n",
    "from qiskit.aqua.translators.ising import max_cut, tsp\n",
    "from qiskit.aqua.algorithms import VQE, ExactEigensolver\n",
    "from qiskit.aqua.components.optimizers import SPSA\n",
    "from qiskit.aqua.components.variational_forms import RY\n",
    "from qiskit.aqua import QuantumInstance\n",
    "\n",
    "# setup aqua logging\n",
    "import logging\n",
    "from qiskit.aqua import set_qiskit_aqua_logging\n",
    "# set_qiskit_aqua_logging(logging.DEBUG)  # choose INFO, DEBUG to see the log\n",
    "\n",
    "from docplex.mp.model import Model\n",
    "from qiskit.aqua.translators.ising import docplex"
   ]
  },
  {
   "cell_type": "code",
   "execution_count": 19,
   "metadata": {},
   "outputs": [],
   "source": [
    "def mainJGOS():\n",
    "\n",
    "\n",
    "    precision = 3\n",
    "    mdl = Model()\n",
    "    x = {i: mdl.binary_var(name='x_{0}'.format(i)) for i in range(precision)}\n",
    "    y = {i: mdl.binary_var(name='y_{0}'.format(i)) for i in range(precision)}\n",
    "    z = {i: mdl.binary_var(name='z_{0}'.format(i)) for i in range(precision)}\n",
    "    \n",
    "    coefs = (2, -3, 0)\n",
    "    coefs_restr = (1, 1, 1)\n",
    "    beta = 5\n",
    "    # Object function\n",
    "    my_func = mdl.sum(coefs[0]*(2**i)*x[i]+coefs[1]*(2**i)*y[i]+(2**i)*coefs[2]*z[i] for i in range(precision))\n",
    "\n",
    "    #(x[i] for i in range(precision)), (y[i] for i in range(precision)), (z[i] for i in range(precision)\n",
    "    tmp = {0:{'var':x,'coef':coefs_restr[0]}, \n",
    "           1:{'var':y,'coef':coefs_restr[1]}, \n",
    "           2:{'var':z,'coef':coefs_restr[2]}}                          \n",
    "    \n",
    "\n",
    "    #mdl.add_constraint(mdl.sum( tmp[v]['var'][i]*(2**i)*tmp[v]['coef'] for v in range(len(coefs)) for i in range(precision)) == beta)\n",
    "\n",
    "    #mdl.add_constraint(mdl.sum( -1*tmp[v]['var'][i]*(2**i)*tmp[v]['coef'] for v in range(len(coefs)) for i in range(precision)) == -beta)\n",
    "    mdl.maximize(my_func)\n",
    "\n",
    "    qubitOp_docplex, offset_docplex = docplex.get_qubitops(mdl)\n",
    "\n",
    "    print(qubitOp_docplex)\n",
    "\n",
    "    #algo_input = EnergyInput(qubitOp_docplex)\n",
    "    #print(algo_input.)\n",
    "\n",
    "\n",
    "    #ee = VQE(qubitOp_docplex)\n",
    "    #ee.run()\n",
    "    ee = ExactEigensolver(qubitOp_docplex, k=1)\n",
    "    result_ee = ee.run()\n",
    "    x_ee = max_cut.sample_most_likely(result_ee['eigvecs'][0])\n",
    "    print('solution:', max_cut.get_graph_solution(x_ee))\n",
    "    \"\"\"\n",
    "    algorithm_cfg = {\n",
    "        'name': 'ExactEigensolver',\n",
    "    }\n",
    "    \n",
    "    params = {\n",
    "        'problem': {'name': 'ising'},\n",
    "        'algorithm': algorithm_cfg\n",
    "    }\n",
    "    result = run_algorithm(params,algo_input)\n",
    "    \"\"\"\n",
    "    #x = max_cut.sample_most_likely(result['eigvecs'][0])\n",
    "    #print('energy:', result['energy'])\n",
    "    #print('max-cut objective:', result['energy'] + offset_docplex)\n",
    "    #print('solution:', max_cut.get_graph_solution(x))\n",
    "    #print('solution objective:', max_cut.max_cut_value(x, w))\n",
    "\n",
    "    seed = 10598\n",
    "    \n",
    "    #change optimizer(spsa), change ry (riyc)\n",
    "    spsa = SPSA(max_trials=300)\n",
    "    ry = RY(qubitOp_docplex.num_qubits, depth=6, entanglement='linear')\n",
    "    vqe = VQE(qubitOp_docplex, ry, spsa, 'matrix')\n",
    "\n",
    "    backend = BasicAer.get_backend('statevector_simulator')\n",
    "    quantum_instance = QuantumInstance(backend, seed=seed, seed_transpiler=seed)\n",
    "\n",
    "    result = vqe.run(quantum_instance)\n",
    "    x = max_cut.sample_most_likely(result['eigvecs'][0])\n",
    "    print('solution:', max_cut.get_graph_solution(x))\n",
    "    return max_cut.get_graph_solution(x)"
   ]
  },
  {
   "cell_type": "code",
   "execution_count": 20,
   "metadata": {},
   "outputs": [
    {
     "name": "stdout",
     "output_type": "stream",
     "text": [
      "Representation: paulis, qubits: 9, size: 6\n",
      "solution: [0. 0. 0. 1. 1. 1. 0. 1. 0.]\n",
      "solution: [0. 0. 0. 1. 1. 1. 0. 0. 1.]\n"
     ]
    }
   ],
   "source": [
    "resultado = mainJGOS()"
   ]
  },
  {
   "cell_type": "code",
   "execution_count": null,
   "metadata": {},
   "outputs": [],
   "source": [
    "(2**i) for i in range(precision)"
   ]
  }
 ],
 "metadata": {
  "kernelspec": {
   "display_name": "Python 3",
   "language": "python",
   "name": "python3"
  },
  "language_info": {
   "codemirror_mode": {
    "name": "ipython",
    "version": 3
   },
   "file_extension": ".py",
   "mimetype": "text/x-python",
   "name": "python",
   "nbconvert_exporter": "python",
   "pygments_lexer": "ipython3",
   "version": "3.6.0"
  }
 },
 "nbformat": 4,
 "nbformat_minor": 2
}
